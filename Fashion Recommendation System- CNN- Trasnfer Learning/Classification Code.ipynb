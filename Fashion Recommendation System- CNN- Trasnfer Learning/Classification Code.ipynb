{
 "cells": [
  {
   "cell_type": "code",
   "execution_count": 1,
   "id": "c6ac4c84",
   "metadata": {},
   "outputs": [
    {
     "name": "stderr",
     "output_type": "stream",
     "text": [
      "2023-07-01 17:39:22.081469: I tensorflow/core/platform/cpu_feature_guard.cc:193] This TensorFlow binary is optimized with oneAPI Deep Neural Network Library (oneDNN) to use the following CPU instructions in performance-critical operations:  SSE4.1 SSE4.2\n",
      "To enable them in other operations, rebuild TensorFlow with the appropriate compiler flags.\n"
     ]
    }
   ],
   "source": [
    "import tensorflow as tf\n",
    "from tensorflow.keras.preprocessing.image import ImageDataGenerator"
   ]
  },
  {
   "cell_type": "code",
   "execution_count": 2,
   "id": "d35787a3",
   "metadata": {},
   "outputs": [
    {
     "name": "stdout",
     "output_type": "stream",
     "text": [
      "Found 245 images belonging to 5 classes.\n"
     ]
    }
   ],
   "source": [
    "# Set the path to your training data folder\n",
    "train_data_dir = 'training'\n",
    "\n",
    "# Set the number of classes/categories\n",
    "num_classes = 5\n",
    "\n",
    "# Set the input image dimensions\n",
    "img_width, img_height = 224, 224\n",
    "\n",
    "# Set the batch size for training\n",
    "batch_size = 32\n",
    "\n",
    "# Create an ImageDataGenerator for data augmentation and preprocessing\n",
    "train_datagen = ImageDataGenerator(\n",
    "    rescale=1.0 / 255,       # Rescale pixel values to [0, 1]\n",
    "    shear_range=0.2,         # Shear transformations\n",
    "    zoom_range=0.2,          # Random zoom\n",
    "    horizontal_flip=True    # Random horizontal flips\n",
    ")\n",
    "\n",
    "# Create a generator for training data\n",
    "train_generator = train_datagen.flow_from_directory(\n",
    "    train_data_dir,\n",
    "    target_size=(img_width, img_height),\n",
    "    batch_size=batch_size,\n",
    "    class_mode='categorical'\n",
    ")"
   ]
  },
  {
   "cell_type": "code",
   "execution_count": 3,
   "id": "a8c56b14",
   "metadata": {},
   "outputs": [
    {
     "name": "stderr",
     "output_type": "stream",
     "text": [
      "2023-07-01 17:39:25.749383: I tensorflow/core/platform/cpu_feature_guard.cc:193] This TensorFlow binary is optimized with oneAPI Deep Neural Network Library (oneDNN) to use the following CPU instructions in performance-critical operations:  SSE4.1 SSE4.2\n",
      "To enable them in other operations, rebuild TensorFlow with the appropriate compiler flags.\n"
     ]
    },
    {
     "name": "stdout",
     "output_type": "stream",
     "text": [
      "Epoch 1/8\n",
      "7/7 [==============================] - 4s 467ms/step - loss: 36.8640 - accuracy: 0.2300\n",
      "Epoch 2/8\n",
      "7/7 [==============================] - 3s 460ms/step - loss: 11.9505 - accuracy: 0.3005\n",
      "Epoch 3/8\n",
      "7/7 [==============================] - 3s 449ms/step - loss: 2.3518 - accuracy: 0.4821\n",
      "Epoch 4/8\n",
      "7/7 [==============================] - 3s 419ms/step - loss: 1.4033 - accuracy: 0.6150\n",
      "Epoch 5/8\n",
      "7/7 [==============================] - 3s 453ms/step - loss: 0.6002 - accuracy: 0.7840\n",
      "Epoch 6/8\n",
      "7/7 [==============================] - 3s 415ms/step - loss: 0.4238 - accuracy: 0.8451\n",
      "Epoch 7/8\n",
      "7/7 [==============================] - 3s 407ms/step - loss: 0.3037 - accuracy: 0.9061\n",
      "Epoch 8/8\n",
      "7/7 [==============================] - 3s 421ms/step - loss: 0.2562 - accuracy: 0.9202\n"
     ]
    },
    {
     "data": {
      "text/plain": [
       "<keras.callbacks.History at 0x7ff3df97dbe0>"
      ]
     },
     "execution_count": 3,
     "metadata": {},
     "output_type": "execute_result"
    }
   ],
   "source": [
    "# Build the CNN model\n",
    "model = tf.keras.models.Sequential([\n",
    "    tf.keras.layers.Conv2D(32, (3, 3), activation='relu', input_shape=(img_width, img_height, 3)),\n",
    "    tf.keras.layers.MaxPooling2D(pool_size=(2, 2)),\n",
    "    tf.keras.layers.Flatten(),\n",
    "    tf.keras.layers.Dense(64, activation='relu'),\n",
    "    tf.keras.layers.Dense(num_classes, activation='softmax')\n",
    "])\n",
    "\n",
    "# Compile the model\n",
    "model.compile(\n",
    "    optimizer='adam',\n",
    "    loss='categorical_crossentropy',\n",
    "    metrics=['accuracy']\n",
    ")\n",
    "\n",
    "# Train the model\n",
    "model.fit(\n",
    "    train_generator,\n",
    "    steps_per_epoch=train_generator.n // batch_size,\n",
    "    epochs=8\n",
    ")\n"
   ]
  },
  {
   "cell_type": "code",
   "execution_count": 20,
   "id": "b4708d57",
   "metadata": {},
   "outputs": [
    {
     "data": {
      "text/plain": [
       "{0: 'Bags',\n",
       " 1: 'Female TShirts',\n",
       " 2: 'Male TShirts',\n",
       " 3: 'Shoes',\n",
       " 4: 'Tracks and Trousers'}"
      ]
     },
     "execution_count": 20,
     "metadata": {},
     "output_type": "execute_result"
    }
   ],
   "source": [
    "# Create a mapping from class index to class label\n",
    "class_mapping = train_generator.class_indices\n",
    "class_mapping = {v: k for k, v in class_mapping.items()}\n",
    "class_mapping"
   ]
  },
  {
   "cell_type": "code",
   "execution_count": 22,
   "id": "98c49ed3",
   "metadata": {},
   "outputs": [
    {
     "name": "stdout",
     "output_type": "stream",
     "text": [
      "1/1 [==============================] - 0s 58ms/step\n",
      "Predicted class: Tracks and Trousers\n"
     ]
    }
   ],
   "source": [
    "loaded_model = tf.keras.models.load_model('image_classification_model.h5')\n",
    "\n",
    "\n",
    "# # Set the path to your single test image\n",
    "test_image_path = 'pent.jpg'\n",
    "\n",
    "# Load and preprocess the test image\n",
    "test_image = tf.keras.preprocessing.image.load_img(\n",
    "    test_image_path,\n",
    "    target_size=(img_width, img_height))\n",
    "\n",
    "test_image_array = tf.keras.preprocessing.image.img_to_array(test_image)\n",
    "test_image_array = tf.expand_dims(test_image_array, axis=0)\n",
    "test_image_array /= 255.0\n",
    "\n",
    "# Predict the class probabilities\n",
    "predictions = loaded_model.predict(test_image_array)\n",
    "\n",
    "# Get the predicted class label\n",
    "predicted_class_index = tf.argmax(predictions, axis=1)[0]\n",
    "predicted_class_name = class_mapping[int(predicted_class_index)]\n",
    "print('Predicted class:', predicted_class_name)"
   ]
  },
  {
   "cell_type": "code",
   "execution_count": 21,
   "id": "033e43cc",
   "metadata": {},
   "outputs": [
    {
     "name": "stdout",
     "output_type": "stream",
     "text": [
      "Model saved.\n",
      "Model loaded.\n"
     ]
    }
   ],
   "source": [
    "# Save the model\n",
    "model.save('image_classification_model.h5')\n",
    "print('Model saved.')\n",
    "\n",
    "# Load the model\n"
   ]
  },
  {
   "cell_type": "code",
   "execution_count": null,
   "id": "23b9848a",
   "metadata": {},
   "outputs": [],
   "source": []
  }
 ],
 "metadata": {
  "kernelspec": {
   "display_name": "Python 3 (ipykernel)",
   "language": "python",
   "name": "python3"
  },
  "language_info": {
   "codemirror_mode": {
    "name": "ipython",
    "version": 3
   },
   "file_extension": ".py",
   "mimetype": "text/x-python",
   "name": "python",
   "nbconvert_exporter": "python",
   "pygments_lexer": "ipython3",
   "version": "3.9.16"
  }
 },
 "nbformat": 4,
 "nbformat_minor": 5
}
